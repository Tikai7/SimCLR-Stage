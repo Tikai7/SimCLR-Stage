{
 "cells": [
  {
   "cell_type": "code",
   "execution_count": null,
   "metadata": {},
   "outputs": [],
   "source": [
    "%load_ext autoreload\n",
    "%autoreload 2"
   ]
  },
  {
   "cell_type": "code",
   "execution_count": null,
   "metadata": {},
   "outputs": [],
   "source": [
    "from utils.JSONRetriever import JSONRetriever as JR"
   ]
  },
  {
   "cell_type": "code",
   "execution_count": 152,
   "metadata": {},
   "outputs": [],
   "source": [
    "path_json = \"C:/Cours-Sorbonne/M1/Stage/src/data/rol_compressed\"\n",
    "path_json_sim = \"C:/Cours-Sorbonne/M1/Stage/src/data/similaires_rol_compressed/json\"\n",
    "path_dest_json = \"C:/Cours-Sorbonne/M1/Stage/src/data/rol_compressed/json\"\n",
    "path_link = \"C:/Cours-Sorbonne/M1/Stage/src/data/similaires_rol_extracted_nn_compressed\"\n",
    "path_filtered = \"C:/Cours-Sorbonne/M1/Stage/src/data/rol_compressed/json_filtered\""
   ]
  },
  {
   "cell_type": "code",
   "execution_count": null,
   "metadata": {},
   "outputs": [],
   "source": [
    "JR.get_json_from_images(path_json, path_dest_json)"
   ]
  },
  {
   "cell_type": "code",
   "execution_count": null,
   "metadata": {},
   "outputs": [],
   "source": [
    "JR.filter_json(path_json,path_link)"
   ]
  },
  {
   "cell_type": "code",
   "execution_count": 157,
   "metadata": {},
   "outputs": [
    {
     "name": "stdout",
     "output_type": "stream",
     "text": [
      "Number of json files in json_sim: 1125, number of json files in json_filtered: 1032\n"
     ]
    }
   ],
   "source": [
    "JR.assert_filtered_json(path_json_sim, path_filtered)"
   ]
  }
 ],
 "metadata": {
  "kernelspec": {
   "display_name": "Python 3",
   "language": "python",
   "name": "python3"
  },
  "language_info": {
   "codemirror_mode": {
    "name": "ipython",
    "version": 3
   },
   "file_extension": ".py",
   "mimetype": "text/x-python",
   "name": "python",
   "nbconvert_exporter": "python",
   "pygments_lexer": "ipython3",
   "version": "3.10.10"
  }
 },
 "nbformat": 4,
 "nbformat_minor": 2
}
