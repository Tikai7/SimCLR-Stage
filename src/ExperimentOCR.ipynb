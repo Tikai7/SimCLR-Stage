{
 "cells": [
  {
   "cell_type": "code",
   "execution_count": null,
   "metadata": {},
   "outputs": [],
   "source": [
    "%load_ext autoreload\n",
    "%autoreload 2"
   ]
  },
  {
   "cell_type": "code",
   "execution_count": null,
   "metadata": {},
   "outputs": [],
   "source": [
    "import os \n",
    "from utils.CaptionRetriever import CaptionRetriever "
   ]
  },
  {
   "cell_type": "code",
   "execution_count": null,
   "metadata": {},
   "outputs": [],
   "source": [
    "SSH = os.getcwd() != 'c:\\\\Cours-Sorbonne\\\\M1\\\\Stage\\\\src'"
   ]
  },
  {
   "cell_type": "code",
   "execution_count": null,
   "metadata": {},
   "outputs": [],
   "source": [
    "path_rol_comp = \"C:/Cours-Sorbonne/M1/Stage/src/data/rol_compressed\" \n",
    "path_rol_super_comp = \"C:/Cours-Sorbonne/M1/Stage/src/data/rol_super_compressed\" \n",
    "path_rol_ht_super_comp = \"C:/Cours-Sorbonne/M1/Stage/src/data/rol_ht_super_compressed\" \n",
    "path_sim_rol_extracted_comp = \"C:/Cours-Sorbonne/M1/Stage/src/data/similaires_rol_extracted_nn_compressed\" \n",
    "path_filtered = \"C:/Cours-Sorbonne/M1/Stage/src/data/rol_compressed/json_filtered\"\n",
    "path_targets = \"C:/Cours-Sorbonne/M1/Stage/src/data/rol_sim_rol_triplets/targets.npy\"\n",
    "bad_pairs_path = \"C:/Cours-Sorbonne/M1/Stage/src/files/bad_pairs.txt\", \n",
    "to_enhance_path = \"C:/Cours-Sorbonne/M1/Stage/src/files/to_enhance_pairs.txt\",\n",
    "\n",
    "if SSH:\n",
    "    path_rol_ht_super_comp = \"../data/rol_ht_super_compressed\" \n",
    "    path_rol_comp = \"../data/rol_super_compressed\" \n",
    "    path_sim_rol_extracted_comp = \"../data/sim_rol_super_compressed\" \n",
    "    path_filtered = \"../data/rol_super_compressed/json_filtered\"\n",
    "    path_targets = \"../data/rol_sim_rol_couples/targets.npy\"\n",
    "    bad_pairs_path = \"./files/bad_pairs.txt\"\n",
    "    to_enhance_path = \"./files/to_enhance_pairs.txt\""
   ]
  },
  {
   "cell_type": "code",
   "execution_count": null,
   "metadata": {},
   "outputs": [],
   "source": [
    "caption_retriever = CaptionRetriever()\n",
    "caption_retriever.retrieve_caption_for(path_sim_rol_extracted_comp)\n",
    "caption_retriever.retrieve_caption_for(path_rol_comp)"
   ]
  }
 ],
 "metadata": {
  "kernelspec": {
   "display_name": "Python 3",
   "language": "python",
   "name": "python3"
  },
  "language_info": {
   "codemirror_mode": {
    "name": "ipython",
    "version": 3
   },
   "file_extension": ".py",
   "mimetype": "text/x-python",
   "name": "python",
   "nbconvert_exporter": "python",
   "pygments_lexer": "ipython3",
   "version": "3.10.10"
  }
 },
 "nbformat": 4,
 "nbformat_minor": 2
}
