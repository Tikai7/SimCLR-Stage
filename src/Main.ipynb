{
 "cells": [
  {
   "cell_type": "code",
   "execution_count": 1,
   "metadata": {},
   "outputs": [],
   "source": [
    "%load_ext autoreload\n",
    "%autoreload 2"
   ]
  },
  {
   "cell_type": "markdown",
   "metadata": {},
   "source": [
    "## Imports"
   ]
  },
  {
   "cell_type": "code",
   "execution_count": 2,
   "metadata": {},
   "outputs": [],
   "source": [
    "import os\n",
    "from utils.DataManager import DataManager as DM\n",
    "from utils.Similarity import Similarity as SMY"
   ]
  },
  {
   "cell_type": "markdown",
   "metadata": {},
   "source": [
    "## Preprocessing Data\n",
    "- Resize to 1024x1024 pixels by keeping aspect ratio\n",
    "- 400go -> 25go"
   ]
  },
  {
   "cell_type": "code",
   "execution_count": 3,
   "metadata": {},
   "outputs": [],
   "source": [
    "\"\"\" Path to change if needed\n",
    "\"\"\"\n",
    "# path to the ROL dataset\n",
    "path_rol = \"D:/Dataset\" \n",
    "# path to the compressed ROL dataset\n",
    "path_rol_comp = \"C:/Cours-Sorbonne/M1/Stage/src/data/rol_compressed\" \n",
    "# path to the similar ROL dataset\n",
    "path_sim_rol = \"C:/Cours-Sorbonne/M1/Stage/src/data/similaires_rol\"\n",
    "# path to the compressed similar ROL dataset\n",
    "path_sim_rol_comp = \"C:/Cours-Sorbonne/M1/Stage/src/data/similaires_rol_compressed\" \n",
    "# path to the extracted images similar ROL dataset\n",
    "path_sim_rol_extract = \"C:/Cours-Sorbonne/M1/Stage/src/data/similaires_rol_extracted\"\n",
    "# path to the extracted images similar ROL dataset\n",
    "path_sim_rol_extract_comp = \"C:/Cours-Sorbonne/M1/Stage/src/data/similaires_rol_extracted_compressed\"\n",
    "# path to the extracted images similar ROL dataset\n",
    "path_sim_rol_extract_nn = \"C:/Cours-Sorbonne/M1/Stage/src/data/similaires_rol_extracted_nn\"\n",
    "# path to the extracted images similar ROL dataset\n",
    "path_sim_rol_extract_nn_comp = \"C:/Cours-Sorbonne/M1/Stage/src/data/similaires_rol_extracted_nn_compressed\"\n",
    "\n",
    "# path for PPTI ROL and ROL EXTRACTED\n",
    "path_rol_super_comp = \"C:/Cours-Sorbonne/M1/Stage/src/data/data_PPTI/super_rol\" \n",
    "path_sim_rol_extract_nn_super_comp = \"C:/Cours-Sorbonne/M1/Stage/src/data/data_PPTI/super_extracted\""
   ]
  },
  {
   "cell_type": "markdown",
   "metadata": {},
   "source": [
    "- Resize each image of '/rol' by preserving the aspect ratio to 1024x1024 pixels"
   ]
  },
  {
   "cell_type": "code",
   "execution_count": null,
   "metadata": {},
   "outputs": [],
   "source": [
    "if os.path.exists(path_sim_rol_comp):\n",
    "    print(\"[INFO] Data already compressed\")\n",
    "else:\n",
    "    print(\"[INFO] Compressing data\")\n",
    "    DM.read_and_compress_files(path_sim_rol, path_sim_rol_comp, max_workers=4, single_folder=True)  "
   ]
  },
  {
   "cell_type": "code",
   "execution_count": null,
   "metadata": {},
   "outputs": [],
   "source": [
    "if os.path.exists(path_rol_comp):\n",
    "    print(\"[INFO] Data already compressed\")\n",
    "else:\n",
    "    print(\"[INFO] Compressing data\")\n",
    "    DM.read_and_compress_files(path_rol, path_rol_comp, max_workers=4, single_folder=False)"
   ]
  },
  {
   "cell_type": "markdown",
   "metadata": {},
   "source": [
    "- Extract images from each images in '/similaire_rol'"
   ]
  },
  {
   "cell_type": "code",
   "execution_count": null,
   "metadata": {},
   "outputs": [],
   "source": [
    "if os.path.exists(path_sim_rol_extract) or os.path.exists(path_sim_rol_extract_nn):\n",
    "    print(\"[INFO] Images already extracted\")\n",
    "else: \n",
    "    DM.extract_images(path_sim_rol, path_sim_rol_extract)"
   ]
  },
  {
   "cell_type": "markdown",
   "metadata": {},
   "source": [
    "- Resize each extracted images by preserving the aspect ratio"
   ]
  },
  {
   "cell_type": "code",
   "execution_count": null,
   "metadata": {},
   "outputs": [],
   "source": [
    "if os.path.exists(path_sim_rol_extract_comp):\n",
    "    print(\"[INFO] Data already compressed\")\n",
    "else:\n",
    "    print(\"[INFO] Compressing data\")\n",
    "    DM.read_and_compress_files(path_sim_rol_extract, path_sim_rol_extract_comp, max_workers=4, single_folder=True)"
   ]
  },
  {
   "cell_type": "code",
   "execution_count": null,
   "metadata": {},
   "outputs": [],
   "source": [
    "if os.path.exists(path_sim_rol_extract_nn_comp):\n",
    "    print(\"[INFO] Data already compressed\")\n",
    "else:\n",
    "    print(\"[INFO] Compressing data\")\n",
    "    DM.read_and_compress_files(path_sim_rol_extract_nn, path_sim_rol_extract_nn_comp, max_workers=4, single_folder=True)"
   ]
  },
  {
   "cell_type": "code",
   "execution_count": 6,
   "metadata": {},
   "outputs": [
    {
     "name": "stdout",
     "output_type": "stream",
     "text": [
      "[INFO] Data already compressed\n"
     ]
    }
   ],
   "source": [
    "if os.path.exists(path_rol_super_comp):\n",
    "    print(\"[INFO] Data already compressed\")\n",
    "else:\n",
    "    print(\"[INFO] Compressing data\")\n",
    "    DM.read_and_compress_files(path_rol_comp, path_rol_super_comp, max_workers=4, single_folder=True, shape=(512,512))"
   ]
  },
  {
   "cell_type": "code",
   "execution_count": 5,
   "metadata": {},
   "outputs": [
    {
     "name": "stdout",
     "output_type": "stream",
     "text": [
      "[INFO] Data already compressed\n"
     ]
    }
   ],
   "source": [
    "if os.path.exists(path_sim_rol_extract_nn_super_comp):\n",
    "    print(\"[INFO] Data already compressed\")\n",
    "else:\n",
    "    print(\"[INFO] Compressing data\")\n",
    "    DM.read_and_compress_files(path_sim_rol_extract_nn_comp, path_sim_rol_extract_nn_super_comp, max_workers=4, single_folder=True, shape=(512,512))"
   ]
  },
  {
   "cell_type": "markdown",
   "metadata": {},
   "source": [
    "## Matching rol and similaire_rol images by using SIFT"
   ]
  },
  {
   "cell_type": "code",
   "execution_count": null,
   "metadata": {},
   "outputs": [],
   "source": [
    "best_matches_sift = SMY.match_images_with_sift(path_rol_comp, path_sim_rol_extract_nn_comp)"
   ]
  },
  {
   "cell_type": "markdown",
   "metadata": {},
   "source": [
    "## Matching rol and similaire_rol images by using MSE"
   ]
  },
  {
   "cell_type": "code",
   "execution_count": null,
   "metadata": {},
   "outputs": [],
   "source": [
    "best_matches_mse = SMY.match_images_with_mse(path_rol_comp, path_sim_rol_extract_nn_comp, plot=True, nb_plot=10)"
   ]
  },
  {
   "cell_type": "markdown",
   "metadata": {},
   "source": [
    "## Matching rol and similaire_rol images by using RESNET"
   ]
  },
  {
   "cell_type": "code",
   "execution_count": null,
   "metadata": {},
   "outputs": [],
   "source": [
    "matches, features_rol, features_sim_rol = SMY.match_images_with_nn(path_rol_comp, path_sim_rol_extract_nn_comp, max_images=None, plot=True, threshold=100, nb_plot=20)"
   ]
  }
 ],
 "metadata": {
  "kernelspec": {
   "display_name": "Python 3",
   "language": "python",
   "name": "python3"
  },
  "language_info": {
   "codemirror_mode": {
    "name": "ipython",
    "version": 3
   },
   "file_extension": ".py",
   "mimetype": "text/x-python",
   "name": "python",
   "nbconvert_exporter": "python",
   "pygments_lexer": "ipython3",
   "version": "3.10.10"
  }
 },
 "nbformat": 4,
 "nbformat_minor": 2
}
