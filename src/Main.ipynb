{
 "cells": [
  {
   "cell_type": "code",
   "execution_count": 1,
   "metadata": {},
   "outputs": [],
   "source": [
    "%load_ext autoreload\n",
    "%autoreload 2"
   ]
  },
  {
   "cell_type": "markdown",
   "metadata": {},
   "source": [
    "## Imports"
   ]
  },
  {
   "cell_type": "code",
   "execution_count": 2,
   "metadata": {},
   "outputs": [
    {
     "ename": "",
     "evalue": "",
     "output_type": "error",
     "traceback": [
      "\u001b[1;31mThe Kernel crashed while executing code in the current cell or a previous cell. \n",
      "\u001b[1;31mPlease review the code in the cell(s) to identify a possible cause of the failure. \n",
      "\u001b[1;31mClick <a href='https://aka.ms/vscodeJupyterKernelCrash'>here</a> for more info. \n",
      "\u001b[1;31mView Jupyter <a href='command:jupyter.viewOutput'>log</a> for further details."
     ]
    }
   ],
   "source": [
    "import os\n",
    "from utils.DataManager import DataManager as DM"
   ]
  },
  {
   "cell_type": "markdown",
   "metadata": {},
   "source": [
    "## Preprocessing Data\n",
    "- Resize to 1024x1024 pixels by keeping aspect ratio\n",
    "- 400go -> 40go"
   ]
  },
  {
   "cell_type": "code",
   "execution_count": 3,
   "metadata": {},
   "outputs": [
    {
     "name": "stdout",
     "output_type": "stream",
     "text": [
      "[INFO] Data already compressed\n",
      "[INFO] Compressing data\n",
      "98250\n"
     ]
    }
   ],
   "source": [
    "path_rol = \"D:/Dataset\"\n",
    "path_rol_comp = \"C:/Cours-Sorbonne/M1/Stage/src/data/rol_compressed\"\n",
    "\n",
    "path_sim_rol = \"D:/Dataset/similaire_rol/similaires_rol\"\n",
    "path_sim_rol_comp = \"C:/Cours-Sorbonne/M1/Stage/src/data/similaires_rol_compressed\"\n",
    "\n",
    "\n",
    "def compress_data(path, path_comp, single_folder=False):\n",
    "    if os.path.exists(path):\n",
    "        print(\"[INFO] Compressing data\")\n",
    "        DM.read_and_compress_files(path, path_comp, max_workers=4, single_folder=single_folder)\n",
    "    else:\n",
    "        print(\"[INFO] Data already compressed\")\n",
    "\n",
    "\n",
    "compress_data(path_sim_rol, path_sim_rol_comp, single_folder=True)\n",
    "compress_data(path_rol, path_rol_comp, single_folder=False)"
   ]
  }
 ],
 "metadata": {
  "kernelspec": {
   "display_name": "Python 3",
   "language": "python",
   "name": "python3"
  },
  "language_info": {
   "codemirror_mode": {
    "name": "ipython",
    "version": 3
   },
   "file_extension": ".py",
   "mimetype": "text/x-python",
   "name": "python",
   "nbconvert_exporter": "python",
   "pygments_lexer": "ipython3",
   "version": "3.10.10"
  }
 },
 "nbformat": 4,
 "nbformat_minor": 2
}
