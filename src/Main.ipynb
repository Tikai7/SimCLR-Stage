{
 "cells": [
  {
   "cell_type": "code",
   "execution_count": 1,
   "metadata": {},
   "outputs": [],
   "source": [
    "%load_ext autoreload\n",
    "%autoreload 2"
   ]
  },
  {
   "cell_type": "markdown",
   "metadata": {},
   "source": [
    "## Imports"
   ]
  },
  {
   "cell_type": "code",
   "execution_count": 2,
   "metadata": {},
   "outputs": [],
   "source": [
    "import os\n",
    "from utils.DataManager import DataManager as DM\n",
    "from utils.Similarity import Similarity as SMY"
   ]
  },
  {
   "cell_type": "markdown",
   "metadata": {},
   "source": [
    "## Preprocessing Data\n",
    "- Resize to 1024x1024 pixels by keeping aspect ratio\n",
    "- 400go -> 25go"
   ]
  },
  {
   "cell_type": "code",
   "execution_count": 3,
   "metadata": {},
   "outputs": [],
   "source": [
    "# path to the ROL dataset\n",
    "path_rol = \"D:/Dataset\" \n",
    "# path to the compressed ROL dataset\n",
    "path_rol_comp = \"C:/Cours-Sorbonne/M1/Stage/src/data/rol_compressed\" \n",
    "# path to the similar ROL dataset\n",
    "path_sim_rol = \"C:/Cours-Sorbonne/M1/Stage/src/data/similaires_rol\"\n",
    "# path to the compressed similar ROL dataset\n",
    "path_sim_rol_comp = \"C:/Cours-Sorbonne/M1/Stage/src/data/similaires_rol_compressed\" \n",
    "# path to the extracted images similar ROL dataset\n",
    "path_sim_rol_extract = \"C:/Cours-Sorbonne/M1/Stage/src/data/similaires_rol_extracted\"\n",
    "# path to the extracted images similar ROL dataset\n",
    "path_sim_rol_extract_comp = \"C:/Cours-Sorbonne/M1/Stage/src/data/similaires_rol_extracted_compressed\"\n"
   ]
  },
  {
   "cell_type": "markdown",
   "metadata": {},
   "source": [
    "- Resize each image of '/rol' by preserving the aspect ratio to 1024x1024 pixels"
   ]
  },
  {
   "cell_type": "code",
   "execution_count": null,
   "metadata": {},
   "outputs": [],
   "source": [
    "if os.path.exists(path_sim_rol_comp):\n",
    "    print(\"[INFO] Data already compressed\")\n",
    "else:\n",
    "    print(\"[INFO] Compressing data\")\n",
    "    DM.read_and_compress_files(path_sim_rol, path_sim_rol_comp, max_workers=4, single_folder=True)  "
   ]
  },
  {
   "cell_type": "code",
   "execution_count": 37,
   "metadata": {},
   "outputs": [
    {
     "name": "stdout",
     "output_type": "stream",
     "text": [
      "[INFO] Data already compressed\n"
     ]
    }
   ],
   "source": [
    "if os.path.exists(path_rol_comp):\n",
    "    print(\"[INFO] Data already compressed\")\n",
    "else:\n",
    "    print(\"[INFO] Compressing data\")\n",
    "    DM.read_and_compress_files(path_rol, path_rol_comp, max_workers=4, single_folder=False)"
   ]
  },
  {
   "cell_type": "markdown",
   "metadata": {},
   "source": [
    "- Extract images from each images in '/similaire_rol'"
   ]
  },
  {
   "cell_type": "code",
   "execution_count": 45,
   "metadata": {},
   "outputs": [
    {
     "name": "stderr",
     "output_type": "stream",
     "text": [
      "100%|██████████| 2016/2016 [07:35<00:00,  4.43it/s]\n"
     ]
    }
   ],
   "source": [
    "DM.extract_images(path_sim_rol, path_sim_rol_extract)"
   ]
  },
  {
   "cell_type": "markdown",
   "metadata": {},
   "source": [
    "- Resize each extracted images by preserving the aspect ratio"
   ]
  },
  {
   "cell_type": "code",
   "execution_count": 51,
   "metadata": {},
   "outputs": [
    {
     "name": "stdout",
     "output_type": "stream",
     "text": [
      "[INFO] Data already compressed\n"
     ]
    }
   ],
   "source": [
    "if os.path.exists(path_sim_rol_extract_comp):\n",
    "    print(\"[INFO] Data already compressed\")\n",
    "else:\n",
    "    print(\"[INFO] Compressing data\")\n",
    "    DM.read_and_compress_files(path_sim_rol_extract, path_sim_rol_extract_comp, max_workers=4, single_folder=True)"
   ]
  },
  {
   "cell_type": "markdown",
   "metadata": {},
   "source": [
    "## Matching rol and similaire_rol images by using SIFT"
   ]
  },
  {
   "cell_type": "code",
   "execution_count": 52,
   "metadata": {},
   "outputs": [
    {
     "name": "stdout",
     "output_type": "stream",
     "text": [
      "Loading rol images...\n",
      "Loading sim rol images...\n",
      "Computing SIFT descriptors for all images in rol...\n",
      "Computing SIFT descriptors for all images in sim rol...\n"
     ]
    },
    {
     "ename": "error",
     "evalue": "OpenCV(4.8.0) D:\\a\\opencv-python\\opencv-python\\opencv\\modules\\features2d\\src\\sift.dispatch.cpp:512: error: (-5:Bad argument) image is empty or has incorrect depth (!=CV_8U) in function 'cv::SIFT_Impl::detectAndCompute'\n",
     "output_type": "error",
     "traceback": [
      "\u001b[1;31m---------------------------------------------------------------------------\u001b[0m",
      "\u001b[1;31merror\u001b[0m                                     Traceback (most recent call last)",
      "Cell \u001b[1;32mIn[52], line 1\u001b[0m\n\u001b[1;32m----> 1\u001b[0m \u001b[43mSMY\u001b[49m\u001b[38;5;241;43m.\u001b[39;49m\u001b[43mmatch_images\u001b[49m\u001b[43m(\u001b[49m\u001b[43mpath_rol_comp\u001b[49m\u001b[43m,\u001b[49m\u001b[43m \u001b[49m\u001b[43mpath_sim_rol_comp\u001b[49m\u001b[43m)\u001b[49m\n",
      "File \u001b[1;32mc:\\Cours-Sorbonne\\M1\\Stage\\src\\utils\\Similarity.py:18\u001b[0m, in \u001b[0;36mSimilarity.match_images\u001b[1;34m(path, path_to_match)\u001b[0m\n\u001b[0;32m     16\u001b[0m all_images_rol_sift \u001b[38;5;241m=\u001b[39m [SIFTDetector\u001b[38;5;241m.\u001b[39mcomputeSIFT(img) \u001b[38;5;28;01mfor\u001b[39;00m img \u001b[38;5;129;01min\u001b[39;00m all_images_rol]\n\u001b[0;32m     17\u001b[0m \u001b[38;5;28mprint\u001b[39m(\u001b[38;5;124m\"\u001b[39m\u001b[38;5;124mComputing SIFT descriptors for all images in sim rol...\u001b[39m\u001b[38;5;124m\"\u001b[39m)\n\u001b[1;32m---> 18\u001b[0m all_images_sim_sift \u001b[38;5;241m=\u001b[39m [SIFTDetector\u001b[38;5;241m.\u001b[39mcomputeSIFT(img) \u001b[38;5;28;01mfor\u001b[39;00m img \u001b[38;5;129;01min\u001b[39;00m all_images_sim]\n\u001b[0;32m     20\u001b[0m \u001b[38;5;28;01mfor\u001b[39;00m image, image_sift \u001b[38;5;129;01min\u001b[39;00m tqdm(\u001b[38;5;28mzip\u001b[39m(all_images_rol,all_images_rol_sift)):\n\u001b[0;32m     21\u001b[0m     best_match \u001b[38;5;241m=\u001b[39m SIFTDetector\u001b[38;5;241m.\u001b[39mgetBestMatch(\n\u001b[0;32m     22\u001b[0m         image_sift[\u001b[38;5;241m1\u001b[39m],\n\u001b[0;32m     23\u001b[0m         [img[\u001b[38;5;241m1\u001b[39m] \u001b[38;5;28;01mfor\u001b[39;00m img \u001b[38;5;129;01min\u001b[39;00m all_images_sim_sift]\n\u001b[0;32m     24\u001b[0m     )\n",
      "File \u001b[1;32mc:\\Cours-Sorbonne\\M1\\Stage\\src\\utils\\Similarity.py:18\u001b[0m, in \u001b[0;36m<listcomp>\u001b[1;34m(.0)\u001b[0m\n\u001b[0;32m     16\u001b[0m all_images_rol_sift \u001b[38;5;241m=\u001b[39m [SIFTDetector\u001b[38;5;241m.\u001b[39mcomputeSIFT(img) \u001b[38;5;28;01mfor\u001b[39;00m img \u001b[38;5;129;01min\u001b[39;00m all_images_rol]\n\u001b[0;32m     17\u001b[0m \u001b[38;5;28mprint\u001b[39m(\u001b[38;5;124m\"\u001b[39m\u001b[38;5;124mComputing SIFT descriptors for all images in sim rol...\u001b[39m\u001b[38;5;124m\"\u001b[39m)\n\u001b[1;32m---> 18\u001b[0m all_images_sim_sift \u001b[38;5;241m=\u001b[39m [\u001b[43mSIFTDetector\u001b[49m\u001b[38;5;241;43m.\u001b[39;49m\u001b[43mcomputeSIFT\u001b[49m\u001b[43m(\u001b[49m\u001b[43mimg\u001b[49m\u001b[43m)\u001b[49m \u001b[38;5;28;01mfor\u001b[39;00m img \u001b[38;5;129;01min\u001b[39;00m all_images_sim]\n\u001b[0;32m     20\u001b[0m \u001b[38;5;28;01mfor\u001b[39;00m image, image_sift \u001b[38;5;129;01min\u001b[39;00m tqdm(\u001b[38;5;28mzip\u001b[39m(all_images_rol,all_images_rol_sift)):\n\u001b[0;32m     21\u001b[0m     best_match \u001b[38;5;241m=\u001b[39m SIFTDetector\u001b[38;5;241m.\u001b[39mgetBestMatch(\n\u001b[0;32m     22\u001b[0m         image_sift[\u001b[38;5;241m1\u001b[39m],\n\u001b[0;32m     23\u001b[0m         [img[\u001b[38;5;241m1\u001b[39m] \u001b[38;5;28;01mfor\u001b[39;00m img \u001b[38;5;129;01min\u001b[39;00m all_images_sim_sift]\n\u001b[0;32m     24\u001b[0m     )\n",
      "File \u001b[1;32mc:\\Cours-Sorbonne\\M1\\Stage\\src\\model\\SIFT.py:8\u001b[0m, in \u001b[0;36mSIFTDetector.computeSIFT\u001b[1;34m(image)\u001b[0m\n\u001b[0;32m      5\u001b[0m \u001b[38;5;129m@staticmethod\u001b[39m\n\u001b[0;32m      6\u001b[0m \u001b[38;5;28;01mdef\u001b[39;00m \u001b[38;5;21mcomputeSIFT\u001b[39m(image):\n\u001b[0;32m      7\u001b[0m     sift_detector \u001b[38;5;241m=\u001b[39m cv2\u001b[38;5;241m.\u001b[39mSIFT_create()\n\u001b[1;32m----> 8\u001b[0m     kp, des \u001b[38;5;241m=\u001b[39m \u001b[43msift_detector\u001b[49m\u001b[38;5;241;43m.\u001b[39;49m\u001b[43mdetectAndCompute\u001b[49m\u001b[43m(\u001b[49m\u001b[43mimage\u001b[49m\u001b[43m,\u001b[49m\u001b[43m \u001b[49m\u001b[38;5;28;43;01mNone\u001b[39;49;00m\u001b[43m)\u001b[49m\n\u001b[0;32m      9\u001b[0m     \u001b[38;5;28;01mreturn\u001b[39;00m kp,des\n",
      "\u001b[1;31merror\u001b[0m: OpenCV(4.8.0) D:\\a\\opencv-python\\opencv-python\\opencv\\modules\\features2d\\src\\sift.dispatch.cpp:512: error: (-5:Bad argument) image is empty or has incorrect depth (!=CV_8U) in function 'cv::SIFT_Impl::detectAndCompute'\n"
     ]
    }
   ],
   "source": [
    "SMY.match_images(path_rol_comp, path_sim_rol_comp)"
   ]
  },
  {
   "cell_type": "code",
   "execution_count": null,
   "metadata": {},
   "outputs": [],
   "source": []
  }
 ],
 "metadata": {
  "kernelspec": {
   "display_name": "Python 3",
   "language": "python",
   "name": "python3"
  },
  "language_info": {
   "codemirror_mode": {
    "name": "ipython",
    "version": 3
   },
   "file_extension": ".py",
   "mimetype": "text/x-python",
   "name": "python",
   "nbconvert_exporter": "python",
   "pygments_lexer": "ipython3",
   "version": "3.10.10"
  }
 },
 "nbformat": 4,
 "nbformat_minor": 2
}
