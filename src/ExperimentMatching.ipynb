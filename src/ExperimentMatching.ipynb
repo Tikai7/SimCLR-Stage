{
 "cells": [
  {
   "cell_type": "code",
   "execution_count": 1,
   "metadata": {},
   "outputs": [],
   "source": [
    "%load_ext autoreload\n",
    "%autoreload 2"
   ]
  },
  {
   "cell_type": "code",
   "execution_count": 2,
   "metadata": {},
   "outputs": [],
   "source": [
    "from utils.Similarity import Similarity as SMY"
   ]
  },
  {
   "cell_type": "code",
   "execution_count": 3,
   "metadata": {},
   "outputs": [],
   "source": [
    "\"\"\" Path to change if needed\n",
    "\"\"\"\n",
    "# path to the compressed ROL dataset\n",
    "path_rol_comp = \"C:/Cours-Sorbonne/M1/Stage/src/data/rol_compressed\" \n",
    "# path to the extracted images similar ROL dataset\n",
    "path_sim_rol_extract_nn_comp = \"C:/Cours-Sorbonne/M1/Stage/src/data/similaires_rol_extracted_nn_compressed\""
   ]
  },
  {
   "cell_type": "markdown",
   "metadata": {},
   "source": [
    "## Matching rol and similaire_rol images by using SIFT"
   ]
  },
  {
   "cell_type": "code",
   "execution_count": null,
   "metadata": {},
   "outputs": [],
   "source": [
    "best_matches_sift = SMY.match_images_with_sift(path_rol_comp, path_sim_rol_extract_nn_comp)"
   ]
  },
  {
   "cell_type": "markdown",
   "metadata": {},
   "source": [
    "## Matching rol and similaire_rol images by using MSE"
   ]
  },
  {
   "cell_type": "code",
   "execution_count": null,
   "metadata": {},
   "outputs": [],
   "source": [
    "best_matches_mse = SMY.match_images_with_mse(path_rol_comp, path_sim_rol_extract_nn_comp, plot=True, nb_plot=10)"
   ]
  },
  {
   "cell_type": "markdown",
   "metadata": {},
   "source": [
    "## Matching rol and similaire_rol images by using RESNET"
   ]
  },
  {
   "cell_type": "code",
   "execution_count": null,
   "metadata": {},
   "outputs": [],
   "source": [
    "matches, features_rol, features_sim_rol = SMY.match_images_with_nn(path_rol_comp, path_sim_rol_extract_nn_comp, max_images=None, plot=True, threshold=100, nb_plot=20)## Matching rol and similaire_rol images by using SIFT"
   ]
  }
 ],
 "metadata": {
  "kernelspec": {
   "display_name": "Python 3",
   "language": "python",
   "name": "python3"
  },
  "language_info": {
   "codemirror_mode": {
    "name": "ipython",
    "version": 3
   },
   "file_extension": ".py",
   "mimetype": "text/x-python",
   "name": "python",
   "nbconvert_exporter": "python",
   "pygments_lexer": "ipython3",
   "version": "3.10.10"
  }
 },
 "nbformat": 4,
 "nbformat_minor": 2
}
