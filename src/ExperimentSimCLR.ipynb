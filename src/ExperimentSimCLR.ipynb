{
 "cells": [
  {
   "cell_type": "code",
   "execution_count": 1,
   "metadata": {},
   "outputs": [],
   "source": [
    "%load_ext autoreload\n",
    "%autoreload 2"
   ]
  },
  {
   "cell_type": "code",
   "execution_count": 2,
   "metadata": {},
   "outputs": [],
   "source": [
    "import torch\n",
    "import os \n",
    "from model.SimCLR import SimCLR\n",
    "from model.Train import Trainer\n",
    "from model.Losses import NTXentLoss\n",
    "from utils.DataLoaderDegradation import DataLoaderDegradation as DLD\n",
    "from torch.utils.data import DataLoader, random_split"
   ]
  },
  {
   "cell_type": "code",
   "execution_count": null,
   "metadata": {},
   "outputs": [],
   "source": [
    "torch.cuda.empty_cache()"
   ]
  },
  {
   "cell_type": "code",
   "execution_count": 4,
   "metadata": {},
   "outputs": [
    {
     "data": {
      "text/plain": [
       "True"
      ]
     },
     "execution_count": 4,
     "metadata": {},
     "output_type": "execute_result"
    }
   ],
   "source": [
    "SSH = os.getcwd() == 'c:\\\\Cours-Sorbonne\\\\M1\\\\Stage\\\\src'"
   ]
  },
  {
   "cell_type": "code",
   "execution_count": null,
   "metadata": {},
   "outputs": [],
   "source": [
    "path_rol_comp = \"C:/Cours-Sorbonne/M1/Stage/src/data/rol_compressed\" \n",
    "path_rol_super_comp = \"C:/Cours-Sorbonne/M1/Stage/src/data/rol_super_compressed\" \n",
    "path_sim_rol_extracted_comp = \"C:/Cours-Sorbonne/M1/Stage/src/data/similaires_rol_extracted_nn_compressed\" \n",
    "path_filtered = \"C:/Cours-Sorbonne/M1/Stage/src/data/rol_compressed/json_filtered\"\n",
    "path_targets = \"C:/Cours-Sorbonne/M1/Stage/src/data/rol_sim_rol_triplets/targets.npy\"\n",
    "\n",
    "if SSH:\n",
    "    path_rol_comp = \"../data/rol_super_compressed\" \n",
    "    path_sim_rol_extracted_comp = \"../data/sim_rol_super_compressed\" \n",
    "    path_filtered = \"../data/rol_super_compressed/json_filtered\"\n",
    "    path_targets = \"../data/rol_sim_rol_couples/targets.npy\""
   ]
  },
  {
   "cell_type": "markdown",
   "metadata": {},
   "source": [
    "## Params"
   ]
  },
  {
   "cell_type": "code",
   "execution_count": null,
   "metadata": {},
   "outputs": [],
   "source": [
    "epochs = 20\n",
    "image_size = 128\n",
    "num_classes = 1\n",
    "batch_size = 8\n",
    "learning_rate = 1e-4\n",
    "train_ratio = 0.8\n",
    "val_ratio = 0.2\n",
    "temperature = 0.5"
   ]
  },
  {
   "cell_type": "code",
   "execution_count": null,
   "metadata": {},
   "outputs": [],
   "source": [
    "dataset = DLD(path_rol_comp, path_sim_rol_extracted_comp, path_filtered, shape=(256, 256), target_path=path_targets)\n",
    "\n",
    "train_size = int(train_ratio * len(dataset))\n",
    "val_size = len(dataset) - train_size\n",
    "\n",
    "train_set, val_set = random_split(dataset, [train_size, val_size])\n",
    "\n",
    "train_loader = DataLoader(train_set, batch_size=batch_size, shuffle=True)\n",
    "val_loader = DataLoader(val_set, batch_size=batch_size, shuffle=True)"
   ]
  },
  {
   "cell_type": "code",
   "execution_count": null,
   "metadata": {},
   "outputs": [],
   "source": [
    "DLD.show_data(train_loader)\n",
    "DLD.show_data(val_loader)"
   ]
  },
  {
   "cell_type": "markdown",
   "metadata": {},
   "source": [
    "# Approche Supervisé"
   ]
  },
  {
   "cell_type": "code",
   "execution_count": null,
   "metadata": {},
   "outputs": [],
   "source": [
    "model = SimCLR(feature_size=128)\n",
    "optimizer = torch.optim.AdamW\n",
    "loss_fn = NTXentLoss(temperature=temperature)"
   ]
  },
  {
   "cell_type": "code",
   "execution_count": null,
   "metadata": {},
   "outputs": [],
   "source": [
    "trainer = Trainer()\n",
    "trainer.set_model(model, \"SimCLR-128\") \\\n",
    ".set_optimizer(optimizer) \\\n",
    ".set_loss(loss_fn) \n",
    "\n",
    "model = trainer.fit(train_data=train_loader, validation_data=val_loader, learning_rate=learning_rate, verbose=True, epochs=epochs, sim_clr=True)"
   ]
  },
  {
   "cell_type": "code",
   "execution_count": null,
   "metadata": {},
   "outputs": [],
   "source": [
    "trainer.save(\"model_simclr.pth\",\"history_simclr.txt\")"
   ]
  },
  {
   "cell_type": "markdown",
   "metadata": {},
   "source": [
    "# Approche Non Supervisé"
   ]
  },
  {
   "cell_type": "code",
   "execution_count": null,
   "metadata": {},
   "outputs": [],
   "source": []
  }
 ],
 "metadata": {
  "kernelspec": {
   "display_name": "Python 3",
   "language": "python",
   "name": "python3"
  },
  "language_info": {
   "codemirror_mode": {
    "name": "ipython",
    "version": 3
   },
   "file_extension": ".py",
   "mimetype": "text/x-python",
   "name": "python",
   "nbconvert_exporter": "python",
   "pygments_lexer": "ipython3",
   "version": "3.10.10"
  }
 },
 "nbformat": 4,
 "nbformat_minor": 2
}
