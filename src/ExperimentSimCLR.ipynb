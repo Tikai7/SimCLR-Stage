{
 "cells": [
  {
   "cell_type": "code",
   "execution_count": null,
   "metadata": {},
   "outputs": [],
   "source": [
    "%load_ext autoreload\n",
    "%autoreload 2"
   ]
  },
  {
   "cell_type": "code",
   "execution_count": null,
   "metadata": {},
   "outputs": [],
   "source": [
    "import torch\n",
    "import os \n",
    "from model.SimCLR import SimCLR\n",
    "from model.Train import Trainer\n",
    "from model.Losses import NTXentLoss\n",
    "from utils.DataLoaderSimCLR import DataLoaderSimCLR as DSC\n",
    "from utils.DataLoaderTest import DataLoaderTest as DLT\n",
    "from torch.utils.data import DataLoader, random_split\n",
    "from utils.Similarity import Similarity as SMY\n",
    "from utils.Plotter import Plotter as PL"
   ]
  },
  {
   "cell_type": "code",
   "execution_count": null,
   "metadata": {},
   "outputs": [],
   "source": [
    "torch.cuda.empty_cache()"
   ]
  },
  {
   "cell_type": "code",
   "execution_count": null,
   "metadata": {},
   "outputs": [],
   "source": [
    "SSH = os.getcwd() != 'c:\\\\Cours-Sorbonne\\\\M1\\\\Stage\\\\src'"
   ]
  },
  {
   "cell_type": "code",
   "execution_count": null,
   "metadata": {},
   "outputs": [],
   "source": [
    "path_rol_comp = \"C:/Cours-Sorbonne/M1/Stage/src/data/rol_compressed\" \n",
    "path_rol_super_comp = \"C:/Cours-Sorbonne/M1/Stage/src/data/rol_super_compressed\" \n",
    "path_rol_ht_super_comp = \"C:/Cours-Sorbonne/M1/Stage/src/data/rol_ht_super_compressed\" \n",
    "path_sim_rol_extracted_comp = \"C:/Cours-Sorbonne/M1/Stage/src/data/similaires_rol_extracted_nn_compressed\" \n",
    "path_filtered = \"C:/Cours-Sorbonne/M1/Stage/src/data/rol_compressed/json_filtered\"\n",
    "path_targets = \"C:/Cours-Sorbonne/M1/Stage/src/data/rol_sim_rol_triplets/targets.npy\"\n",
    "bad_pairs_path = \"C:/Cours-Sorbonne/M1/Stage/src/files/bad_pairs.txt\"\n",
    "to_enhance_path = \"C:/Cours-Sorbonne/M1/Stage/src/files/to_enhance_pairs.txt\"\n",
    "path_sim_rol_test = \"C:/Cours-Sorbonne/M1/Stage/src/data/data_PPTI/sim_rol_test\"\n",
    "\n",
    "if SSH:\n",
    "    path_rol_ht_super_comp = \"../data/rol_ht_super_compressed\" \n",
    "    path_rol_comp = \"../data/rol_super_compressed\" \n",
    "    path_sim_rol_extracted_comp = \"../data/sim_rol_super_compressed\" \n",
    "    path_filtered = \"../data/rol_super_compressed/json_filtered\"\n",
    "    path_sim_rol_test = \"../data/sim_rol_test\"\n",
    "    path_targets = \"../data/rol_sim_rol_couples/targets.npy\"\n",
    "    bad_pairs_path = \"./files/bad_pairs.txt\"\n",
    "    to_enhance_path = \"./files/to_enhance_pairs.txt\""
   ]
  },
  {
   "cell_type": "markdown",
   "metadata": {},
   "source": [
    "## Params"
   ]
  },
  {
   "cell_type": "code",
   "execution_count": null,
   "metadata": {},
   "outputs": [],
   "source": [
    "epochs = 50\n",
    "image_size = 256\n",
    "batch_size = 32\n",
    "learning_rate = 1e-3\n",
    "train_ratio = 0.8\n",
    "val_ratio = 0.2\n",
    "temperature = 0.5"
   ]
  },
  {
   "cell_type": "code",
   "execution_count": null,
   "metadata": {},
   "outputs": [],
   "source": [
    "dataset = DSC(\n",
    "    path_rol_comp, path_sim_rol_extracted_comp, path_filtered,\n",
    "    shape=(image_size, image_size), target_path=path_targets,\n",
    "    to_enhance_path=to_enhance_path, bad_pairs_path=bad_pairs_path,\n",
    "    path_sim_rol_test=path_sim_rol_test, max_images=40000,\n",
    "    augment_test=False, use_only_rol=False, use_context=True, remove_to_enhance_files=True, remove_bad_pairs=True\n",
    ")\n",
    "\n",
    "train_size = int(train_ratio * len(dataset))\n",
    "val_size = len(dataset) - train_size\n",
    "\n",
    "train_set, val_set = random_split(dataset, [train_size, val_size])\n",
    "\n",
    "train_loader = DataLoader(train_set, batch_size=2, shuffle=True)\n",
    "val_loader = DataLoader(val_set, batch_size=2, shuffle=True)"
   ]
  },
  {
   "cell_type": "code",
   "execution_count": null,
   "metadata": {},
   "outputs": [],
   "source": [
    "DSC.show_data(train_loader,1,use_context=True)\n",
    "DSC.show_data(val_loader,1,use_context=True)"
   ]
  },
  {
   "cell_type": "markdown",
   "metadata": {},
   "source": [
    "# Approche Supervisé"
   ]
  },
  {
   "cell_type": "code",
   "execution_count": null,
   "metadata": {},
   "outputs": [],
   "source": [
    "model = SimCLR(feature_size=128, use_context=True)\n",
    "optimizer = torch.optim.AdamW\n",
    "loss_fn = NTXentLoss(temperature=temperature)"
   ]
  },
  {
   "cell_type": "code",
   "execution_count": null,
   "metadata": {},
   "outputs": [],
   "source": [
    "trainer = Trainer()\n",
    "trainer.set_model(model, \"SimCLR-128\") \\\n",
    ".set_optimizer(optimizer) \\\n",
    ".set_loss(loss_fn) \n",
    "\n",
    "model = trainer.fit(\n",
    "    train_data=train_loader, validation_data=val_loader, learning_rate=learning_rate, \n",
    "    verbose=True, epochs=epochs, sim_clr=True, use_context=True\n",
    ")"
   ]
  },
  {
   "cell_type": "code",
   "execution_count": null,
   "metadata": {},
   "outputs": [],
   "source": [
    "trainer.save(\"model_simclr.pth\",\"history_simclr.txt\")"
   ]
  },
  {
   "cell_type": "markdown",
   "metadata": {},
   "source": [
    "## Testing"
   ]
  },
  {
   "cell_type": "code",
   "execution_count": null,
   "metadata": {},
   "outputs": [],
   "source": [
    "testset = DLT(path_to_sim_test=path_sim_rol_test, augment=False, use_context=True)"
   ]
  },
  {
   "cell_type": "code",
   "execution_count": null,
   "metadata": {},
   "outputs": [],
   "source": [
    "test_loader = DataLoader(testset, batch_size=batch_size, shuffle=True)\n",
    "DSC.show_data(test_loader, 1, use_context=True, is_test=True)"
   ]
  },
  {
   "cell_type": "code",
   "execution_count": null,
   "metadata": {},
   "outputs": [],
   "source": [
    "model = SimCLR(feature_size=128, use_context=True)\n",
    "model_state = Trainer().get_model(\"C:/Cours-Sorbonne/M1/Stage/src/params/model/model_simclr_RGC.pth\")\n",
    "model.load_state_dict(model_state)\n",
    "history = Trainer().get_history(\"C:/Cours-Sorbonne/M1/Stage/src/params/model/history_simclr_RGC.txt\")"
   ]
  },
  {
   "cell_type": "code",
   "execution_count": null,
   "metadata": {},
   "outputs": [],
   "source": [
    "top_k_pairs, original_images, augmented_images = SMY.match_images_with_simCLR(model, test_loader=test_loader, use_context=True, k=20, use_sift=False, is_test=True)"
   ]
  },
  {
   "cell_type": "code",
   "execution_count": null,
   "metadata": {},
   "outputs": [],
   "source": [
    "best_pairs = top_k_pairs[:,0]\n",
    "PL.plot_best_pairs(best_pairs, original_images, augmented_images, max_images=10)"
   ]
  },
  {
   "cell_type": "code",
   "execution_count": null,
   "metadata": {},
   "outputs": [],
   "source": []
  }
 ],
 "metadata": {
  "kernelspec": {
   "display_name": "Python 3",
   "language": "python",
   "name": "python3"
  },
  "language_info": {
   "codemirror_mode": {
    "name": "ipython",
    "version": 3
   },
   "file_extension": ".py",
   "mimetype": "text/x-python",
   "name": "python",
   "nbconvert_exporter": "python",
   "pygments_lexer": "ipython3",
   "version": "3.10.10"
  }
 },
 "nbformat": 4,
 "nbformat_minor": 2
}
