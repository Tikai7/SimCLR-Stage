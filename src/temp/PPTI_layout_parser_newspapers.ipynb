{
  "cells": [
    {
      "cell_type": "markdown",
      "metadata": {
        "id": "pbGanx_tVzjv"
      },
      "source": [
        "# Layout Parser - Model trained\n",
        "\n",
        "\n",
        "The model used here has been trained on BNF (Gallica)'s newspapers pages. they has been annotated and these annotations exported on COCO format.\n",
        "\n",
        "It can be used to extract the images the newspapers pages contained.\n",
        "\n",
        "The only thing to change is the paths to:\n",
        "- the model & config file (.pth & .yaml)\n",
        "- the pages you want to extract the pictures\n",
        "\n",
        "This notebook is made to be used linked to your Google Drive account. You can easily adapt it to use it with Jupyter.\n"
      ]
    },
    {
      "cell_type": "code",
      "execution_count": 1,
      "metadata": {},
      "outputs": [
        {
          "name": "stdout",
          "output_type": "stream",
          "text": [
            "11.6\n"
          ]
        }
      ],
      "source": [
        "import torch\n",
        "print(torch.version.cuda)\n"
      ]
    },
    {
      "cell_type": "code",
      "execution_count": 3,
      "metadata": {
        "colab": {
          "base_uri": "https://localhost:8080/",
          "height": 439
        },
        "id": "VfbWFXAUH0l4",
        "outputId": "cfcaca9d-e4d3-48b7-e422-c3de3afc2933"
      },
      "outputs": [
        {
          "name": "stderr",
          "output_type": "stream",
          "text": [
            "\n",
            "[notice] A new release of pip available: 22.3.1 -> 24.1\n",
            "[notice] To update, run: python.exe -m pip install --upgrade pip\n",
            "ERROR: To modify pip, please run the following command:\n",
            "C:\\Users\\halim\\AppData\\Local\\Programs\\Python\\Python310\\python.exe -m pip install -q --upgrade pip\n",
            "\n",
            "[notice] A new release of pip available: 22.3.1 -> 24.1\n",
            "[notice] To update, run: python.exe -m pip install --upgrade pip\n",
            "\n",
            "[notice] A new release of pip available: 22.3.1 -> 24.1\n",
            "[notice] To update, run: python.exe -m pip install --upgrade pip\n",
            "\n",
            "[notice] A new release of pip available: 22.3.1 -> 24.1\n",
            "[notice] To update, run: python.exe -m pip install --upgrade pip\n"
          ]
        },
        {
          "name": "stdout",
          "output_type": "stream",
          "text": [
            "Requirement already satisfied: Pillow==9.5.0 in c:\\users\\halim\\appdata\\local\\programs\\python\\python310\\lib\\site-packages (9.5.0)\n"
          ]
        },
        {
          "name": "stderr",
          "output_type": "stream",
          "text": [
            "\n",
            "[notice] A new release of pip available: 22.3.1 -> 24.1\n",
            "[notice] To update, run: python.exe -m pip install --upgrade pip\n",
            "\n",
            "[notice] A new release of pip available: 22.3.1 -> 24.1\n",
            "[notice] To update, run: python.exe -m pip install --upgrade pip\n"
          ]
        },
        {
          "name": "stdout",
          "output_type": "stream",
          "text": [
            "1.13.0+cu116\n"
          ]
        }
      ],
      "source": [
        "# Install necessary packages\n",
        "!pip install -q requests\n",
        "!pip install -q --upgrade pip\n",
        "!pip install -q opencv-python\n",
        "!pip install -q torchvision\n",
        "!pip install Pillow==9.5.0\n",
        "\n",
        "# Import necessary libraries\n",
        "import shutil\n",
        "import requests\n",
        "import glob\n",
        "import re\n",
        "import math\n",
        "import json\n",
        "import os\n",
        "import cv2\n",
        "from PIL import Image\n",
        "\n",
        "# Install and import layoutparser and detectron2\n",
        "# !pip install -q 'git+https://github.com/facebookresearch/detectron2.git@v0.4#egg=detectron2'\n",
        "!pip install -q -U layoutparser\n",
        "\n",
        "import layoutparser as lp\n",
        "\n",
        "# Import PyTorch and empty the CUDA cache\n",
        "import torch\n",
        "torch.cuda.empty_cache()\n",
        "\n",
        "# Print the PyTorch version\n",
        "print(torch.__version__)\n",
        "\n",
        "import requests\n",
        "\n",
        "# Define the Hugging Face repository and model files\n",
        "repo_id = \"mgiardinetti/layout-parser-newspapers\"\n",
        "config_file = \"config.yaml\"\n",
        "model_file = \"model_final.pth\"\n",
        "\n",
        "# Create a directory to save the model\n",
        "save_directory = \"/content/layout-parser-newspapers\"\n",
        "os.makedirs(save_directory, exist_ok=True)\n",
        "\n",
        "# Download the configuration file\n",
        "config_url = f\"https://huggingface.co/{repo_id}/resolve/main/{config_file}\"\n",
        "config_path = os.path.join(save_directory, config_file)\n",
        "response = requests.get(config_url)\n",
        "with open(config_path, 'wb') as f:\n",
        "    f.write(response.content)\n",
        "\n",
        "# Download the model weights\n",
        "model_url = f\"https://huggingface.co/{repo_id}/resolve/main/{model_file}\"\n",
        "model_path = os.path.join(save_directory, model_file)\n",
        "response = requests.get(model_url)\n",
        "with open(model_path, 'wb') as f:\n",
        "    f.write(response.content)\n",
        "\n",
        "# from google.colab import drive\n",
        "# drive.mount('/content/drive')"
      ]
    },
    {
      "cell_type": "code",
      "execution_count": 8,
      "metadata": {
        "colab": {
          "base_uri": "https://localhost:8080/"
        },
        "id": "Oa3ln2dUWyzb",
        "outputId": "182eb61a-df79-4529-9978-8dae32dafa84"
      },
      "outputs": [
        {
          "name": "stdout",
          "output_type": "stream",
          "text": [
            "Le modèle n'a pas été importé: \n",
            "Detectron2LayoutModel requires the detectron2 library but it was not found in your environment. Checkout the instructions on the\n",
            "installation page: https://github.com/facebookresearch/detectron2/blob/master/INSTALL.md and follow the ones\n",
            "that match your environment. Typically the following would work for MacOS or Linux CPU machines:\n",
            "    pip install 'git+https://github.com/facebookresearch/detectron2.git@v0.4#egg=detectron2' \n",
            "\n"
          ]
        }
      ],
      "source": [
        "import layoutparser as lp\n",
        "\n",
        "# Model and configuration file paths\n",
        "model = \"C:/Cours-Sorbonne/M1/Stage/src/params/model_bnf/model_final.pth\"\n",
        "config =\"C:/Cours-Sorbonne/M1/Stage/src/params/model_bnf/config.yaml\"\n",
        "\n",
        "# Association id:nom for each class to detect\n",
        "labels = \"0:illustration 1:legende\"\n",
        "\n",
        "# Parse labels\n",
        "dictlabels = {}\n",
        "if labels:\n",
        "    for asso in labels.split(\" \"):\n",
        "        key, value = asso.split(\":\")\n",
        "        dictlabels[int(key)] = value\n",
        "\n",
        "# Load the model\n",
        "try:\n",
        "    if dictlabels:\n",
        "        model = lp.models.Detectron2LayoutModel(\n",
        "            config_path=config,\n",
        "            model_path=model,\n",
        "            label_map=dictlabels\n",
        "        )\n",
        "    else:\n",
        "        model = lp.models.Detectron2LayoutModel(\n",
        "            config_path=config,\n",
        "            model_path=model\n",
        "        )\n",
        "    print(\"Modèle importé\")\n",
        "except Exception as e:\n",
        "    print(f\"Le modèle n'a pas été importé: {e}\")\n"
      ]
    },
    {
      "cell_type": "code",
      "execution_count": null,
      "metadata": {
        "id": "bVQ_ByQmx9-k"
      },
      "outputs": [],
      "source": [
        "import os\n",
        "import glob\n",
        "import re\n",
        "import cv2\n",
        "from PIL import Image, UnidentifiedImageError\n",
        "import layoutparser as lp\n",
        "\n",
        "# Define directories\n",
        "extractions_path = \"C:/Cours-Sorbonne/M1/Stage/src/data/similaires_rol_extracted_compressed_nn\"\n",
        "pages_directory = \"C:/Cours-Sorbonne/M1/Stage/src/data/similaires_rol_compressed\"\n",
        "\n",
        "seuil_score = 0.95\n",
        "\n",
        "# Process each page\n",
        "for page_path in glob.glob(os.path.join(pages_directory, '*.jpg')):\n",
        "    page_name = os.path.basename(page_path)\n",
        "\n",
        "    # Read and convert image\n",
        "    image = cv2.imread(page_path)\n",
        "    image = image[..., ::-1]\n",
        "\n",
        "    # Detect layout\n",
        "    layout = model.detect(image)\n",
        "    layout = [x for x in layout if x.score > seuil_score]\n",
        "    print(\"_________________Extraction of the pictures_________________\")\n",
        "\n",
        "    # Extract bounding box coordinates\n",
        "    layout_str = str(layout)\n",
        "    x1 = list(map(int, re.findall(r'x_1=(\\d+)', layout_str)))\n",
        "    y1 = list(map(int, re.findall(r'y_1=(\\d+)', layout_str)))\n",
        "    x2 = list(map(int, re.findall(r'x_2=(\\d+)', layout_str)))\n",
        "    y2 = list(map(int, re.findall(r'y_2=(\\d+)', layout_str)))\n",
        "\n",
        "    # Crop and save images\n",
        "    for i, (x1_i, y1_i, x2_i, y2_i) in enumerate(zip(x1, y1, x2, y2)):\n",
        "                img = Image.open(page_path)\n",
        "                cropped = img.crop((x1_i, y1_i, x2_i, y2_i))\n",
        "                cropped_file_name = f\"{os.path.splitext(page_name)[0]}_{i+1:02d}.jpg\"\n",
        "                cropped.save(os.path.join(extractions_path, cropped_file_name))\n"
      ]
    },
    {
      "cell_type": "code",
      "execution_count": null,
      "metadata": {},
      "outputs": [],
      "source": []
    }
  ],
  "metadata": {
    "colab": {
      "provenance": []
    },
    "kernelspec": {
      "display_name": "Python 3 (ipykernel)",
      "language": "python",
      "name": "python3"
    },
    "language_info": {
      "codemirror_mode": {
        "name": "ipython",
        "version": 3
      },
      "file_extension": ".py",
      "mimetype": "text/x-python",
      "name": "python",
      "nbconvert_exporter": "python",
      "pygments_lexer": "ipython3",
      "version": "3.10.10"
    }
  },
  "nbformat": 4,
  "nbformat_minor": 0
}
